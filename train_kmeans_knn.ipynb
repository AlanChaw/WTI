{
 "cells": [
  {
   "cell_type": "code",
   "execution_count": null,
   "metadata": {},
   "outputs": [],
   "source": [
    "nn = 100\n",
    "kmeans_model_path = \"train_kmeans_{0}_clusters_model.m\".format(class_num)\n",
    "\n",
    "from sklearn.cluster import KMeans\n",
    "from sklearn.externals import joblib\n",
    "\n",
    "def trainKmeansClf(class_num, train_data, kmeans_model_path):\n",
    "    kmeans_clf = KMeans(n_clusters=class_num, random_state=0).fit(train_data)\n",
    "    joblib.dump(kmeans, kmeans_model_path)\n",
    "    return kmeans_clf\n",
    "\n",
    "def getKmeansClfModel(kmeans_model_path):\n",
    "    return joblib.load(kmeans_model_path)\n",
    "\n",
    "def "
   ]
  },
  {
   "cell_type": "code",
   "execution_count": null,
   "metadata": {},
   "outputs": [],
   "source": [
    "def _main():\n",
    "    global trainKmeansClf\n",
    "    global kmeans_model_path\n",
    "    kmeans_clf = trainKmeansClf(CLASS_NUM, kmeans_model_path)\n",
    "\n",
    "if \"__main__\" == __name__:\n",
    "    _main()"
   ]
  }
 ],
 "metadata": {
  "kernelspec": {
   "display_name": "Python 3",
   "language": "python",
   "name": "python3"
  },
  "language_info": {
   "codemirror_mode": {
    "name": "ipython",
    "version": 3
   },
   "file_extension": ".py",
   "mimetype": "text/x-python",
   "name": "python",
   "nbconvert_exporter": "python",
   "pygments_lexer": "ipython3",
   "version": "3.7.4"
  }
 },
 "nbformat": 4,
 "nbformat_minor": 2
}
