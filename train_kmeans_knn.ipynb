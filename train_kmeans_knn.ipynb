{
 "cells": [
  {
   "cell_type": "code",
   "execution_count": null,
   "metadata": {},
   "outputs": [],
   "source": [
    "from sklearn.cluster import KMeans\n",
    "from sklearn.neighbors import KNeighborsClassifier\n",
    "from sklearn.externals import joblib\n",
    "\n",
    "def trainKmeansClf(class_num, train_data, kmeans_model_path):\n",
    "    kmeans_clf = KMeans(n_clusters=class_num).fit(train_data)\n",
    "    joblib.dump(kmeans_clf, kmeans_model_path)\n",
    "    return kmeans_clf\n",
    "\n",
    "def getKmeansClfModel(kmeans_model_path):\n",
    "    return joblib.load(kmeans_model_path)\n",
    "\n",
    "def trainKnnClf(n_neighbors, X, y)\n",
    "    knn_clf = KNeighborsClassifier(n_neighbors=n_neighbors)\n",
    "    knn_clf.fit(X, y)\n",
    "    joblib.dump(knn_clf, knn_model_path)\n",
    "    return knn_clf\n",
    "\n",
    "def getKnnClfModel(knn_model_path):\n",
    "    return joblib.load(knn_model_path)"
   ]
  },
  {
   "cell_type": "code",
   "execution_count": null,
   "metadata": {},
   "outputs": [],
   "source": [
    "def _main():\n",
    "    num_of_clusters = 100\n",
    "    num_of_k_neibors = 100\n",
    "    kmeans_model_path = \"checkpoints/train_kmeans_{0}_clusters_model.m\".format(num_of_clusters)\n",
    "    knn_model_path = \"checkpoints/train_knn_{0}_clusters_model.m\".format(num_of_k_neibors)\n",
    "\n",
    "    train_data_path = \"\"\n",
    "    \n",
    "    kmeans_clf = trainKmeansClf(num_of_clusters, train_data, kmeans_model_path)\n",
    "    knn_clf = trainKnnClf(n_neighbors, X, y)\n",
    "\n",
    "if \"__main__\" == __name__:\n",
    "    _main()"
   ]
  }
 ],
 "metadata": {
  "kernelspec": {
   "display_name": "Python 3",
   "language": "python",
   "name": "python3"
  },
  "language_info": {
   "codemirror_mode": {
    "name": "ipython",
    "version": 3
   },
   "file_extension": ".py",
   "mimetype": "text/x-python",
   "name": "python",
   "nbconvert_exporter": "python",
   "pygments_lexer": "ipython3",
   "version": "3.7.4"
  }
 },
 "nbformat": 4,
 "nbformat_minor": 2
}
