{
 "cells": [
  {
   "cell_type": "code",
   "execution_count": 26,
   "metadata": {},
   "outputs": [],
   "source": [
    "import time\n",
    "import joblib\n",
    "import pandas as pd\n",
    "import numpy as np\n",
    "from sklearn.cluster import KMeans\n",
    "from sklearn.neighbors import KNeighborsClassifier\n",
    "from feature_extract_inference import FeatureExtract\n",
    "\n",
    "class KmeansKnnModel:\n",
    "    def __init__(self,\n",
    "                 model_version = \"v1_1\",\n",
    "                 num_of_clusters = 10,\n",
    "                 num_of_k_neibors = 30,\n",
    "                 train_data_path = \"data/v1_1/train_set_v1_1_more_than_55.txt\"):\n",
    "                 dev_data_path = \"data/v1_1/dev_set_v1_1_more_than_55.txt\"\n",
    "        self.model_version = model_version\n",
    "        self.num_of_clusters = num_of_clusters\n",
    "        self.num_of_k_neibors = num_of_k_neibors\n",
    "        self.kmeans_model_path = \\\n",
    "                \"checkpoints/kmeans_model_{0}_clusters_{1}.m\".format(\\\n",
    "                    self.model_version,\\\n",
    "                    self.num_of_clusters)\n",
    "        self.knn_model_path = \\\n",
    "                \"checkpoints/knn_model_{0}\".format(self.model_version)\n",
    "        self.train_data_path = train_data_path\n",
    "        self.dev_data_path = dev_data_path\n",
    "        \n",
    "    def trainKmeansClf(self, train_data):\n",
    "        kmeans_clf = KMeans(n_clusters=self.num_of_clusters).fit(train_data)\n",
    "        joblib.dump(kmeans_clf, self.kmeans_model_path)\n",
    "        return kmeans_clf\n",
    "\n",
    "    def getKmeansClfModel(self):\n",
    "        return joblib.load(self.kmeans_model_path)\n",
    "\n",
    "    def trainKnnClf(self, clf_number, X, y):\n",
    "        knn_clf = KNeighborsClassifier(n_neighbors=self.num_of_k_neibors)\n",
    "        knn_clf.fit(X, y)\n",
    "        clf_path = \"{0}_cluster_{1}.m\".format(self.knn_model_path, clf_number)\n",
    "        joblib.dump(knn_clf, clf_path)\n",
    "        return knn_clf\n",
    "\n",
    "    def getKnnClfModel(self, clf_number):\n",
    "        clf_path = \"{0}_cluster_{1}.m\".format(self.knn_model_path, clf_number)\n",
    "        return joblib.load(clf_path)"
   ]
  },
  {
   "cell_type": "code",
   "execution_count": 27,
   "metadata": {},
   "outputs": [],
   "source": [
    "def random_mini_batches(X, Y, mini_batch_size = 64):\n",
    "    m = len(X)\n",
    "    mini_batches = []\n",
    "\n",
    "    num_complete_minibatches = int(m/mini_batch_size) # number of mini batches of size mini_batch_size in your partitionning\n",
    "    for k in range(0, num_complete_minibatches):\n",
    "        mini_batch_X = X[k * mini_batch_size : (k + 1) * mini_batch_size]\n",
    "        mini_batch_Y = Y[k * mini_batch_size : (k + 1) * mini_batch_size]\n",
    "        mini_batch = (mini_batch_X, mini_batch_Y)\n",
    "        mini_batches.append(mini_batch)\n",
    "\n",
    "    if m % mini_batch_size != 0:\n",
    "        mini_batch_X = X[num_complete_minibatches * mini_batch_size:]\n",
    "        mini_batch_Y = Y[num_complete_minibatches * mini_batch_size:]\n",
    "        mini_batch = (mini_batch_X, mini_batch_Y)\n",
    "        mini_batches.append(mini_batch)\n",
    "\n",
    "    return mini_batches"
   ]
  },
  {
   "cell_type": "code",
   "execution_count": 28,
   "metadata": {},
   "outputs": [],
   "source": [
    "def readData(data_path):\n",
    "    label_list = []\n",
    "    sentence_list = []\n",
    "    with open(data_path) as data_file:\n",
    "        for line in data_file.readlines():\n",
    "            line = line.strip().split(\"\\t\")\n",
    "            label_list.append(line[0])\n",
    "            sentence_list.append(line[1])\n",
    "\n",
    "    #mini_batches = random_mini_batches(sentence_list, label_list, 1)\n",
    "    label_list = np.array(label_list)\n",
    "    return sentence_list, label_list"
   ]
  },
  {
   "cell_type": "code",
   "execution_count": 29,
   "metadata": {},
   "outputs": [],
   "source": [
    "kmeans_knn_learner = KmeansKnnModel()\n",
    "sentence_list, label_list = readData(kmeans_knn_learner.train_data_path)"
   ]
  },
  {
   "cell_type": "code",
   "execution_count": 30,
   "metadata": {},
   "outputs": [],
   "source": [
    "test_model = FeatureExtract()"
   ]
  },
  {
   "cell_type": "code",
   "execution_count": 31,
   "metadata": {},
   "outputs": [],
   "source": [
    "def getFeatureList(sentence_list):\n",
    "    feature_list = []\n",
    "    #for batch in mini_batches:\n",
    "        #feature = test_model.get_features(batch[0])\n",
    "    for sentence in sentence_list:\n",
    "        feature = test_model.get_features([sentence])\n",
    "        feature_list.append(np.ravel(feature))\n",
    "    feature_list = np.array(feature_list)\n",
    "    return feature_list"
   ]
  },
  {
   "cell_type": "code",
   "execution_count": 32,
   "metadata": {},
   "outputs": [
    {
     "name": "stdout",
     "output_type": "stream",
     "text": [
      "CPU times: user 3min 13s, sys: 168 ms, total: 3min 13s\n",
      "Wall time: 3min 13s\n"
     ]
    }
   ],
   "source": [
    "%%time\n",
    "# Training set feature list\n",
    "feature_list = getFeatureList(sentence_list)"
   ]
  },
  {
   "cell_type": "code",
   "execution_count": 33,
   "metadata": {},
   "outputs": [
    {
     "name": "stdout",
     "output_type": "stream",
     "text": [
      "CPU times: user 18.3 s, sys: 260 ms, total: 18.6 s\n",
      "Wall time: 5.58 s\n"
     ]
    }
   ],
   "source": [
    "%%time\n",
    "# KMeans training\n",
    "kmeans_clf = kmeans_knn_learner.trainKmeansClf(feature_list)"
   ]
  },
  {
   "cell_type": "code",
   "execution_count": 34,
   "metadata": {},
   "outputs": [
    {
     "name": "stdout",
     "output_type": "stream",
     "text": [
      "---------------------------\n",
      "KNN Classifier 0:\n",
      "Time spent: 8.97ms\n",
      "---------------------------\n",
      "KNN Classifier 1:\n",
      "Time spent: 10.21ms\n",
      "---------------------------\n",
      "KNN Classifier 2:\n",
      "Time spent: 8.74ms\n",
      "---------------------------\n",
      "KNN Classifier 3:\n",
      "Time spent: 10.58ms\n",
      "---------------------------\n",
      "KNN Classifier 4:\n",
      "Time spent: 9.25ms\n",
      "---------------------------\n",
      "KNN Classifier 5:\n",
      "Time spent: 10.71ms\n",
      "---------------------------\n",
      "KNN Classifier 6:\n",
      "Time spent: 6.55ms\n",
      "---------------------------\n",
      "KNN Classifier 7:\n",
      "Time spent: 11.11ms\n",
      "---------------------------\n",
      "KNN Classifier 8:\n",
      "Time spent: 8.96ms\n",
      "---------------------------\n",
      "KNN Classifier 9:\n",
      "Time spent: 7.83ms\n"
     ]
    }
   ],
   "source": [
    "# KNN training\n",
    "for i in np.unique(kmeans_clf.labels_):\n",
    "    print(\"---------------------------\")\n",
    "    print(\"KNN Classifier {0}:\".format(i))\n",
    "    time_start=time.time()\n",
    "    cluster_index = (kmeans_clf.labels_ == i)\n",
    "    knn_clf = kmeans_knn_learner.trainKnnClf(i, feature_list[cluster_index], label_list[cluster_index])\n",
    "    time_end=time.time()\n",
    "    print(\"Time spent: {0:.2f}ms\".format((time_end-time_start)*1000))"
   ]
  },
  {
   "cell_type": "code",
   "execution_count": 35,
   "metadata": {},
   "outputs": [],
   "source": [
    "# predict\n",
    "kmeans_clf = kmeans_knn_learner.getKmeansClfModel()\n",
    "\n",
    "dev_sentence, dev_label = readData(kmeans_knn_learner.dev_data_path)"
   ]
  },
  {
   "cell_type": "code",
   "execution_count": 36,
   "metadata": {},
   "outputs": [
    {
     "name": "stdout",
     "output_type": "stream",
     "text": [
      "CPU times: user 23 s, sys: 32 ms, total: 23 s\n",
      "Wall time: 22.6 s\n"
     ]
    }
   ],
   "source": [
    "%%time\n",
    "# dev set feature list\n",
    "dev_feature_list = getFeatureList(dev_sentence)"
   ]
  },
  {
   "cell_type": "code",
   "execution_count": 37,
   "metadata": {},
   "outputs": [
    {
     "name": "stdout",
     "output_type": "stream",
     "text": [
      "CPU times: user 19.5 ms, sys: 4.19 ms, total: 23.7 ms\n",
      "Wall time: 5.65 ms\n"
     ]
    }
   ],
   "source": [
    "%%time\n",
    "kmeans_predicted_list = kmeans_clf.predict(dev_feature_list)"
   ]
  },
  {
   "cell_type": "code",
   "execution_count": 39,
   "metadata": {},
   "outputs": [
    {
     "name": "stdout",
     "output_type": "stream",
     "text": [
      "------------------------------------------------------\n",
      "KNN classifier 0 precision: 28/175=0.16\n",
      "------------------------------------------------------\n",
      "KNN classifier 1 precision: 21/140=0.15\n",
      "------------------------------------------------------\n",
      "KNN classifier 2 precision: 18/207=0.09\n",
      "------------------------------------------------------\n",
      "KNN classifier 3 precision: 37/216=0.17\n",
      "------------------------------------------------------\n",
      "KNN classifier 4 precision: 25/224=0.11\n",
      "------------------------------------------------------\n",
      "KNN classifier 5 precision: 50/216=0.23\n",
      "------------------------------------------------------\n",
      "KNN classifier 6 precision: 24/148=0.16\n",
      "------------------------------------------------------\n",
      "KNN classifier 7 precision: 75/237=0.32\n",
      "------------------------------------------------------\n",
      "KNN classifier 8 precision: 25/178=0.14\n",
      "------------------------------------------------------\n",
      "KNN classifier 9 precision: 22/178=0.12\n",
      "Dev set precision: 0.17\n",
      "CPU times: user 957 ms, sys: 0 ns, total: 957 ms\n",
      "Wall time: 954 ms\n"
     ]
    }
   ],
   "source": [
    "%%time\n",
    "unique_clusters = np.unique(kmeans_clf.labels_)\n",
    "correct = 0\n",
    "for label in unique_clusters:\n",
    "    index_list = (kmeans_predicted_list==label)\n",
    "    temp_feature_list = dev_feature_list[index_list]\n",
    "    temp_label_list = dev_label[index_list]\n",
    "    knn_clf = kmeans_knn_learner.getKnnClfModel(label)\n",
    "    knn_predicted_list = knn_clf.predict(temp_feature_list)\n",
    "    temp_correct = sum(temp_label_list==knn_predicted_list)\n",
    "    temp_len = len(temp_label_list)\n",
    "    correct += temp_correct\n",
    "    temp_precision = temp_correct / temp_len\n",
    "    print(\"------------------------------------------------------\")\n",
    "    print(\"KNN classifier {0} precision: {1}/{2}={3:.2f}\".format(label, temp_correct, temp_len, temp_precision))\n",
    "precision = correct / len(dev_label)\n",
    "print(\"Dev set precision: {0:.2f}\".format(precision))"
   ]
  }
 ],
 "metadata": {
  "kernelspec": {
   "display_name": "Python 3",
   "language": "python",
   "name": "python3"
  },
  "language_info": {
   "codemirror_mode": {
    "name": "ipython",
    "version": 3
   },
   "file_extension": ".py",
   "mimetype": "text/x-python",
   "name": "python",
   "nbconvert_exporter": "python",
   "pygments_lexer": "ipython3",
   "version": "3.7.4"
  }
 },
 "nbformat": 4,
 "nbformat_minor": 2
}
