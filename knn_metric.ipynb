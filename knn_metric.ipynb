{
 "cells": [
  {
   "cell_type": "code",
   "execution_count": 2,
   "metadata": {},
   "outputs": [],
   "source": [
    "import pandas as pd\n",
    "import numpy as np\n",
    "from sklearn.neighbors import KNeighborsClassifier"
   ]
  },
  {
   "cell_type": "code",
   "execution_count": 46,
   "metadata": {},
   "outputs": [],
   "source": [
    "train_set_path = \"/Users/weizhuozhang/Desktop/Files/train_encode_tuned.npy\"\n",
    "dev_set_path = \"/Users/weizhuozhang/Desktop/Files/dev_encode_tuned.npy\"\n",
    "train_set_csv = \"/Users/weizhuozhang/Desktop/Files/train_set_v1.txt\"\n",
    "dev_set_csv = \"/Users/weizhuozhang/Desktop/Files/dev_set_v1.txt\"\n",
    "\n",
    "train_set = np.load(train_set_path)\n",
    "train_csv = pd.read_csv(train_set_csv, sep='\\t', header=None)\n",
    "train_csv = np.array(train_csv)\n",
    "dev_set = np.load(dev_set_path)\n",
    "dev_csv = pd.read_csv(dev_set_csv, sep='\\t', header=None)\n",
    "dev_csv = np.array(dev_csv)\n",
    "\n",
    "train_label = (train_csv[:,0]).astype('int')\n",
    "dev_label = (dev_csv[:,0]).astype('int')"
   ]
  },
  {
   "cell_type": "code",
   "execution_count": 47,
   "metadata": {},
   "outputs": [
    {
     "data": {
      "text/plain": [
       "array([8363, 8687, 2228, ..., 6573, 2614,  837])"
      ]
     },
     "execution_count": 47,
     "metadata": {},
     "output_type": "execute_result"
    }
   ],
   "source": [
    "dev_label"
   ]
  },
  {
   "cell_type": "code",
   "execution_count": 53,
   "metadata": {
    "scrolled": true
   },
   "outputs": [
    {
     "name": "stdout",
     "output_type": "stream",
     "text": [
      "CPU times: user 39.3 s, sys: 3.3 s, total: 42.6 s\n",
      "Wall time: 46.1 s\n"
     ]
    },
    {
     "data": {
      "text/plain": [
       "KNeighborsClassifier(algorithm='ball_tree', leaf_size=30, metric='minkowski',\n",
       "                     metric_params=None, n_jobs=-1, n_neighbors=5, p=2,\n",
       "                     weights='uniform')"
      ]
     },
     "execution_count": 53,
     "metadata": {},
     "output_type": "execute_result"
    }
   ],
   "source": [
    "%%time\n",
    "knn_clf = KNeighborsClassifier(algorithm='ball_tree', n_jobs=-1)\n",
    "knn_clf.fit(train_set, train_label)"
   ]
  },
  {
   "cell_type": "code",
   "execution_count": 54,
   "metadata": {},
   "outputs": [
    {
     "name": "stdout",
     "output_type": "stream",
     "text": [
      "CPU times: user 3h 41min 43s, sys: 37 s, total: 3h 42min 20s\n",
      "Wall time: 58min 22s\n"
     ]
    }
   ],
   "source": [
    "%%time\n",
    "predicted = knn_clf.predict(dev_set)\n",
    "accuracy = sum(predicted == dev_label)/len(predicted)"
   ]
  },
  {
   "cell_type": "code",
   "execution_count": 55,
   "metadata": {},
   "outputs": [
    {
     "name": "stdout",
     "output_type": "stream",
     "text": [
      "0.1691949950171631\n"
     ]
    }
   ],
   "source": [
    "print(accuracy)"
   ]
  }
 ],
 "metadata": {
  "kernelspec": {
   "display_name": "Python 3",
   "language": "python",
   "name": "python3"
  },
  "language_info": {
   "codemirror_mode": {
    "name": "ipython",
    "version": 3
   },
   "file_extension": ".py",
   "mimetype": "text/x-python",
   "name": "python",
   "nbconvert_exporter": "python",
   "pygments_lexer": "ipython3",
   "version": "3.7.4"
  }
 },
 "nbformat": 4,
 "nbformat_minor": 2
}
