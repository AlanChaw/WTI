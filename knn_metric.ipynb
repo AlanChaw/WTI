{
 "cells": [
  {
   "cell_type": "code",
   "execution_count": 1,
   "metadata": {},
   "outputs": [],
   "source": [
    "import pandas as pd\n",
    "import numpy as np\n",
    "from sklearn.neighbors import KNeighborsClassifier"
   ]
  },
  {
   "cell_type": "code",
   "execution_count": 3,
   "metadata": {},
   "outputs": [],
   "source": [
    "train_set_path = \"/home/weizhuozhang/Desktop/cwb/COMP90051-Project1/data/BERT_encoding/train_encode_tuned.npy\"\n",
    "dev_set_path = \"/home/weizhuozhang/Desktop/cwb/COMP90051-Project1/data/BERT_encoding/dev_encode_tuned.npy\"\n",
    "train_set_csv = \"/home/weizhuozhang/Desktop/cwb/COMP90051-Project1/data/train_set_v1.txt\"\n",
    "dev_set_csv = \"/home/weizhuozhang/Desktop/cwb/COMP90051-Project1/data/dev_set_v1.txt\"\n",
    "\n",
    "train_set = np.load(train_set_path)\n",
    "train_csv = pd.read_csv(train_set_csv, sep='\\t', header=None)\n",
    "train_csv = np.array(train_csv)\n",
    "dev_set = np.load(dev_set_path)\n",
    "dev_csv = pd.read_csv(dev_set_csv, sep='\\t', header=None)\n",
    "dev_csv = np.array(dev_csv)\n",
    "\n",
    "train_label = (train_csv[:,0]).astype('int')\n",
    "dev_label = (dev_csv[:,0]).astype('int')"
   ]
  },
  {
   "cell_type": "code",
   "execution_count": 58,
   "metadata": {
    "scrolled": true
   },
   "outputs": [
    {
     "name": "stdout",
     "output_type": "stream",
     "text": [
      "CPU times: user 37.2 s, sys: 2.74 s, total: 39.9 s\n",
      "Wall time: 41.7 s\n"
     ]
    },
    {
     "data": {
      "text/plain": [
       "KNeighborsClassifier(algorithm='kd_tree', leaf_size=30, metric='minkowski',\n",
       "                     metric_params=None, n_jobs=-1, n_neighbors=5, p=2,\n",
       "                     weights='uniform')"
      ]
     },
     "execution_count": 58,
     "metadata": {},
     "output_type": "execute_result"
    }
   ],
   "source": [
    "import time\n",
    "k_neighbors = [3, 7, 9, 13, 15]\n",
    "for k in k_neighbors:\n",
    "    knn_clf = KNeighborsClassifier(n_jobs=-1, n_neighbors=k)\n",
    "    knn_clf.fit(train_set, train_label)\n",
    "    time_start=time.time()\n",
    "    predicted = knn_clf.predict(dev_set)\n",
    "    accuracy = sum(predicted == dev_label)/len(predicted)\n",
    "    time_end=time.time()\n",
    "    print(\"---------------------------------\")\n",
    "    print(\"knn k={0}\".format(k))\n",
    "    print(\"accuracy: {0}\".format(accuracy))\n",
    "    print(\"Time spent: {0:.2f}ms\".format((time_end-time_start)*1000))\n"
   ]
  },
  {
   "cell_type": "code",
   "execution_count": 54,
   "metadata": {},
   "outputs": [
    {
     "name": "stdout",
     "output_type": "stream",
     "text": [
      "CPU times: user 4h 36min 55s, sys: 11.6 s, total: 4h 37min 7s\n",
      "Wall time: 54min 32s\n"
     ]
    }
   ],
   "source": [
    "%%time\n",
    "k = 1000\n",
    "knn_clf = KNeighborsClassifier(n_jobs=-1, n_neighbors=k)\n",
    "knn_clf.fit(train_set, train_label)\n",
    "\n",
    "k_neighbors_list = knn_clf.kneighbors(dev_set)\n",
    "k_neigbbors_path = \"/home/weizhuozhang/workspace/COMP90051-Project1/data/result/k_neighbors_list_k_eq_{0}\".format(k)\n",
    "np.save(k_neigbbors_path, k_neighbors_list)"
   ]
  },
  {
   "cell_type": "code",
   "execution_count": 55,
   "metadata": {},
   "outputs": [],
   "source": [
    "k_neigbbors_npy_path = \"/home/weizhuozhang/workspace/COMP90051-Project1/data/result/k_neighbors_list_k_eq_{0}.npy\".format(k)\n",
    "k_neighbors_list = np.load(k_neigbbors_npy_path)\n",
    "k_neighbors_dist_list = k_neighbors_list[0]\n",
    "k_neighbors_index_list = k_neighbors_list[1]\n",
    "label_k_neighbors_np = []\n",
    "for i, index_list in enumerate(k_neighbors_index_list):\n",
    "    line = []\n",
    "    line.append(dev_label[i])\n",
    "    candidate = list(train_label[index_list.astype('int')])\n",
    "    line.append(candidate)\n",
    "    label_k_neighbors_np.append(line)\n",
    "label_k_neighbors_np = np.array(label_k_neighbors_np)"
   ]
  },
  {
   "cell_type": "code",
   "execution_count": 56,
   "metadata": {},
   "outputs": [
    {
     "name": "stdout",
     "output_type": "stream",
     "text": [
      "0.7219577012512457\n"
     ]
    }
   ],
   "source": [
    "true_label_list = label_k_neighbors_np[:,0]\n",
    "candidate_label_list = label_k_neighbors_np[:,1]\n",
    "counter = 0\n",
    "for i, label in enumerate(true_label_list):\n",
    "    if label in candidate_label_list[i]:\n",
    "        counter += 1\n",
    "candidate_accuracy = counter / len(true_label_list)\n",
    "print(candidate_accuracy)"
   ]
  },
  {
   "cell_type": "code",
   "execution_count": 57,
   "metadata": {},
   "outputs": [
    {
     "name": "stdout",
     "output_type": "stream",
     "text": [
      "616.3404938545011\n"
     ]
    }
   ],
   "source": [
    "counter = 0\n",
    "for i, label in enumerate(true_label_list):\n",
    "    counter += len(np.unique(candidate_label_list[i]))\n",
    "avg_user_counter = counter / len(candidate_label_list)\n",
    "print(avg_user_counter)"
   ]
  },
  {
   "cell_type": "code",
   "execution_count": null,
   "metadata": {},
   "outputs": [],
   "source": []
  }
 ],
 "metadata": {
  "kernelspec": {
   "display_name": "Python 3",
   "language": "python",
   "name": "python3"
  },
  "language_info": {
   "codemirror_mode": {
    "name": "ipython",
    "version": 3
   },
   "file_extension": ".py",
   "mimetype": "text/x-python",
   "name": "python",
   "nbconvert_exporter": "python",
   "pygments_lexer": "ipython3",
   "version": "3.7.4"
  }
 },
 "nbformat": 4,
 "nbformat_minor": 2
}
