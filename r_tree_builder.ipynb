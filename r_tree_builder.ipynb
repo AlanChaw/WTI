{
 "cells": [
  {
   "cell_type": "code",
   "execution_count": 1,
   "metadata": {},
   "outputs": [],
   "source": [
    "import pickle\n",
    "import numpy as np\n",
    "from rtree import index as rtree_index\n",
    "\n",
    "class RTreeUtil:\n",
    "    def __init__(self,\n",
    "                 target_tree_path):\n",
    "        self.target_tree_path = target_tree_path\n",
    "\n",
    "    def buildRTree(self, label_list, feature_list):\n",
    "        idx = rtree_index.Index()\n",
    "        for i, feature in enumerate(feature_list):\n",
    "            idx.insert(label_list[i], np.tile(feature_list, 2))\n",
    "        with open(self.target_tree_path, 'wb') as handle:\n",
    "            pickle.dump(idx, handle, protocol=pickle.HIGHEST_PROTOCOL)\n",
    "\n",
    "    def loadRTree(self):\n",
    "        return pickle.load(self.target_tree_path)\n",
    "    \n",
    "    def nearstNodes(self, rtree, feature, num_of_nearst=5):\n",
    "        return idx.nearest(np.tile(feature_list, 2), num_of_nearst)"
   ]
  }
 ],
 "metadata": {
  "kernelspec": {
   "display_name": "Python 3",
   "language": "python",
   "name": "python3"
  },
  "language_info": {
   "codemirror_mode": {
    "name": "ipython",
    "version": 3
   },
   "file_extension": ".py",
   "mimetype": "text/x-python",
   "name": "python",
   "nbconvert_exporter": "python",
   "pygments_lexer": "ipython3",
   "version": "3.7.4"
  }
 },
 "nbformat": 4,
 "nbformat_minor": 2
}
